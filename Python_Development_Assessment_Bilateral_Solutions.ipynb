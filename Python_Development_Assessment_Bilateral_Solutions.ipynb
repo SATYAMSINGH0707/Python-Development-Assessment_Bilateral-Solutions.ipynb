{
  "nbformat": 4,
  "nbformat_minor": 0,
  "metadata": {
    "colab": {
      "provenance": [],
      "authorship_tag": "ABX9TyOP+I9G87ayulvfEpn+u5Xq",
      "include_colab_link": true
    },
    "kernelspec": {
      "name": "python3",
      "display_name": "Python 3"
    },
    "language_info": {
      "name": "python"
    }
  },
  "cells": [
    {
      "cell_type": "markdown",
      "metadata": {
        "id": "view-in-github",
        "colab_type": "text"
      },
      "source": [
        "<a href=\"https://colab.research.google.com/github/SATYAMSINGH0707/Python-Development-Assessment_Bilateral-Solutions.ipynb/blob/main/Python_Development_Assessment_Bilateral_Solutions.ipynb\" target=\"_parent\"><img src=\"https://colab.research.google.com/assets/colab-badge.svg\" alt=\"Open In Colab\"/></a>"
      ]
    },
    {
      "cell_type": "code",
      "execution_count": null,
      "metadata": {
        "colab": {
          "base_uri": "https://localhost:8080/"
        },
        "id": "LOsKi-gFtn5b",
        "outputId": "0279054c-6d49-4477-adb2-a2671becfc57"
      },
      "outputs": [
        {
          "output_type": "stream",
          "name": "stdout",
          "text": [
            "Enter your password: P@ssw0rd2023!\n",
            "Password strength score: 18\n"
          ]
        }
      ],
      "source": [
        "\"\"\"\n",
        "The highest score that can be achieved by this script is 15.\n",
        "\n",
        "Here's the breakdown:\n",
        "\n",
        "Length of Password:\n",
        "\n",
        "8 or more characters: +2 points.\n",
        "12 or more characters: +3 additional points.\n",
        "Total: 5 points.\n",
        "Inclusion of Numbers:\n",
        "\n",
        "At least one digit: +2 points.\n",
        "Inclusion of Symbols:\n",
        "\n",
        "At least one special character: +3 points.\n",
        "Uppercase and Lowercase Characters:\n",
        "\n",
        "Both uppercase and lowercase letters: +4 points.\n",
        "Variation of Character Types:\n",
        "\n",
        "1 point each for having a digit, lowercase, uppercase, and symbol:\n",
        "Total: +4 points.\n",
        "Total Maximum Score:\n",
        "5 (Length) + 2 (Numbers) + 3 (Symbols) + 4 (Upper/Lowercase) + 4 (Variation) = 18 points.\n",
        "However, since the length bonus maxes out at +5 points and character types are\n",
        "capped at +4 points, the highest achievable score for a password that meets all criteria is 18.\n",
        "\"\"\"\n",
        "def evaluate_password_strength(password: str) -> int:\n",
        "    score = 0\n",
        "\n",
        "    # Criteria 1: Length of password\n",
        "    length = len(password)\n",
        "    if length >= 8:\n",
        "        score += 2\n",
        "    if length >= 12:\n",
        "        score += 3\n",
        "\n",
        "    # Initialize flags for different character types\n",
        "    has_digit = False\n",
        "    has_lowercase = False\n",
        "    has_uppercase = False\n",
        "    has_symbol = False\n",
        "    symbols = \"!@#$%^&*(),.?\\\":{}|<>\"\n",
        "\n",
        "    # Criteria 2, 3, 4: Check each character in the password\n",
        "    for char in password:\n",
        "        if '0' <= char <= '9':\n",
        "            has_digit = True\n",
        "        elif 'a' <= char <= 'z':\n",
        "            has_lowercase = True\n",
        "        elif 'A' <= char <= 'Z':\n",
        "            has_uppercase = True\n",
        "        elif char in symbols:\n",
        "            has_symbol = True\n",
        "\n",
        "    # Update score based on character types found\n",
        "    if has_digit:\n",
        "        score += 2\n",
        "    if has_symbol:\n",
        "        score += 3\n",
        "    if has_lowercase and has_uppercase:\n",
        "        score += 4\n",
        "\n",
        "    # Criteria 5: Variation of character types\n",
        "    character_type_count = has_digit + has_lowercase + has_uppercase + has_symbol\n",
        "    score += character_type_count\n",
        "\n",
        "    return score\n",
        "\n",
        "# Example usage\n",
        "password = input(\"Enter your password: \")\n",
        "strength = evaluate_password_strength(password)\n",
        "print(f\"Password strength score: {strength}\")\n"
      ]
    },
    {
      "cell_type": "code",
      "source": [
        "\"\"\"Python program that encrypts a sentence using a simple Caesar cipher\n",
        "encryption scheme, where each letter in the sentence is shifted by a fixed number of positions in the alphabet:\"\"\"\n",
        "\n",
        "\"\"\"\n",
        "Lowercase and Uppercase Handling:\n",
        "\n",
        "The program checks whether each character is a lowercase letter (a-z) or an uppercase letter (A-Z).\n",
        "If the character is a letter, it calculates the new shifted character using the ASCII value, ensuring it wraps around the alphabet if necessary.\n",
        "Non-alphabet characters (like spaces, punctuation) are not altered.\n",
        "\n",
        "Shifting:\n",
        "The shift is applied using the formula:\n",
        "shifted_char=\n",
        "chr(((ord(char)−ord(’a’ or ’A’) + shift) % 26) + ord(’a’ or ’A’))\n",
        "shifted_char=chr(((ord(char)−ord(’a’ or ’A’)+shift)%26)+ord(’a’ or ’A’))\n",
        "This ensures that the letters are shifted correctly and wrap around from z to a or from 'Z' to 'A'.\n",
        "\n",
        "\n",
        "Example:\n",
        "For the input sentence \"hello world\" and a shift of '3':\n",
        "\n",
        "The output will be \"khoor zruog\".\n",
        "This program is a straightforward implementation of a Caesar cipher and can be easily modified to handle different kinds of encryption schemes.\n",
        "\"\"\"\n",
        "def encrypt_sentence(sentence: str, shift: int) -> str:\n",
        "    encrypted_sentence = \"\"\n",
        "\n",
        "    for char in sentence:\n",
        "        # Check if the character is a lowercase letter\n",
        "        if 'a' <= char <= 'z':\n",
        "            # Shift within the range of lowercase letters\n",
        "            shifted_char = chr(((ord(char) - ord('a') + shift) % 26) + ord('a'))\n",
        "            encrypted_sentence += shifted_char\n",
        "        # Check if the character is an uppercase letter\n",
        "        elif 'A' <= char <= 'Z':\n",
        "            # Shift within the range of uppercase letters\n",
        "            shifted_char = chr(((ord(char) - ord('A') + shift) % 26) + ord('A'))\n",
        "            encrypted_sentence += shifted_char\n",
        "        else:\n",
        "            # Non-alphabet characters are added as is\n",
        "            encrypted_sentence += char\n",
        "\n",
        "    return encrypted_sentence\n",
        "\n",
        "# Example usage\n",
        "sentence = input(\"Enter a sentence to encrypt: \")\n",
        "shift = int(input(\"Enter the shift value: \"))\n",
        "encrypted = encrypt_sentence(sentence, shift)\n",
        "print(\"Encrypted sentence:\", encrypted)\n"
      ],
      "metadata": {
        "colab": {
          "base_uri": "https://localhost:8080/"
        },
        "id": "uUid1U5wwu6I",
        "outputId": "583f1cf5-b6bb-4e5e-89ac-e655ba22070c"
      },
      "execution_count": null,
      "outputs": [
        {
          "output_type": "stream",
          "name": "stdout",
          "text": [
            "Enter a sentence to encrypt: Satyam Singh\n",
            "Enter the shift value: 3\n",
            "Encrypted sentence: Vdwbdp Vlqjk\n"
          ]
        }
      ]
    },
    {
      "cell_type": "code",
      "source": [
        "\"\"\"\n",
        "How to Use the Code:\n",
        "Input: The user is prompted to enter two strings.\n",
        "Processing: The function is_anagram checks if the provided strings are anagrams by:\n",
        "Removing spaces and converting both strings to lowercase.\n",
        "Checking if the lengths of the strings are the same.\n",
        "Counting the frequency of each character in both strings.\n",
        "Comparing the frequency dictionaries.\n",
        "Output: It prints whether the two strings are anagrams.\n",
        "\"\"\"\n",
        "def anagram(str1: str, str2: str) -> bool:\n",
        "    str1 = str1.replace(\" \", \"\").lower()\n",
        "    str2 = str2.replace(\" \", \"\").lower()\n",
        "    if len(str1) != len(str2):\n",
        "        return False\n",
        "    f_1 = {}\n",
        "    f_2 = {}\n",
        "    for char in str1:\n",
        "        if char in f_1:\n",
        "            f_1[char] += 1\n",
        "        else:\n",
        "            f_1[char] = 1\n",
        "    for char in str2:\n",
        "        if char in f_2:\n",
        "            f_2[char] += 1\n",
        "        else:\n",
        "            f_2[char] = 1\n",
        "    return f_1 == f_2\n",
        "input_str1 = input(\"first string: \")\n",
        "input_str2 = input(\"second string: \")\n",
        "result = anagram(input_str1, input_str2)\n",
        "print(\"Are the two strings anagrams?\", result)\n"
      ],
      "metadata": {
        "colab": {
          "base_uri": "https://localhost:8080/",
          "height": 0
        },
        "id": "YcZtckvj2PG4",
        "outputId": "eb18fc4a-4f0f-4428-d4f4-11650a48787a"
      },
      "execution_count": 2,
      "outputs": [
        {
          "output_type": "stream",
          "name": "stdout",
          "text": [
            "first string: evil\n",
            "second string: vile\n",
            "Are the two strings anagrams? True\n"
          ]
        }
      ]
    }
  ]
}